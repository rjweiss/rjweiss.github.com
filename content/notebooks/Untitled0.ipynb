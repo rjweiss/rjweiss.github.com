{
 "metadata": {
  "name": "",
  "signature": "sha256:1f6f75ffcfa9e5cefbdd180de18db894ffe97bc973ee238c9374c15304271891"
 },
 "nbformat": 3,
 "nbformat_minor": 0,
 "worksheets": [
  {
   "cells": [
    {
     "cell_type": "code",
     "collapsed": false,
     "input": [
      "import gensim"
     ],
     "language": "python",
     "metadata": {},
     "outputs": [],
     "prompt_number": 2
    },
    {
     "cell_type": "code",
     "collapsed": false,
     "input": [
      "from gensim.parsing.preprocessing import STOPWORDS as gensim_stopwords\n",
      "from nltk.corpus import stopwords as nltk_stopwords"
     ],
     "language": "python",
     "metadata": {},
     "outputs": [],
     "prompt_number": 15
    },
    {
     "cell_type": "code",
     "collapsed": false,
     "input": [
      "STOPWORDS = frozenset(gensim_stopwords.union(nltk_stopwords.words('english')))"
     ],
     "language": "python",
     "metadata": {},
     "outputs": [],
     "prompt_number": 21
    },
    {
     "cell_type": "code",
     "collapsed": false,
     "input": [
      "result = [token.lower().encode('utf8') for token in tokens if len(token) > 2 and token.isalpha()]\n",
      "return [token for token in result if token not in STOPWORDS]"
     ],
     "language": "python",
     "metadata": {},
     "outputs": [
      {
       "metadata": {},
       "output_type": "pyout",
       "prompt_number": 22,
       "text": [
        "338"
       ]
      }
     ],
     "prompt_number": 22
    }
   ],
   "metadata": {}
  }
 ]
}